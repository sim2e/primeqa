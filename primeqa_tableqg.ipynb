{
 "cells": [
  {
   "cell_type": "markdown",
   "id": "489bc0df",
   "metadata": {},
   "source": [
    "# Table Question Generation: Inference example\n",
    "\n",
    "In this notebook, we will show how to use a pretrained TableQG model to generate questions. We first sample SQL queries from a given table, and then use a text-to-text transformer (T5) to transcribe the SQL query to a natural language question. "
   ]
  },
  {
   "cell_type": "markdown",
   "id": "4bbe1173",
   "metadata": {},
   "source": [
    "## Dependencies\n",
    "\n",
    "If not already done, make sure to install PrimeQA with notebooks extras before getting started."
   ]
  },
  {
   "cell_type": "code",
   "execution_count": 1,
   "id": "815cec1c",
   "metadata": {},
   "outputs": [
    {
     "name": "stderr",
     "output_type": "stream",
     "text": [
      "2023-11-17 15:12:33.598091: W tensorflow/stream_executor/platform/default/dso_loader.cc:64] Could not load dynamic library 'libcudart.so.11.0'; dlerror: libcudart.so.11.0: cannot open shared object file: No such file or directory; LD_LIBRARY_PATH: /path/to/anaconda/envs/myenv/lib:/usr/local/cuda/lib64:/usr/local/cuda-11.7/lib64::/usr/local/cuda/lib64:/usr/local/cuda-11.7/lib64\n"
     ]
    },
    {
     "name": "stdout",
     "output_type": "stream",
     "text": [
      "{\"time\":\"2023-11-17 15:12:35,145\", \"name\": \"numexpr.utils\", \"level\": \"INFO\", \"message\": \"Note: NumExpr detected 40 cores but \"NUMEXPR_MAX_THREADS\" not set, so enforcing safe limit of 8.\"}\n",
      "{\"time\":\"2023-11-17 15:12:35,146\", \"name\": \"numexpr.utils\", \"level\": \"INFO\", \"message\": \"NumExpr defaulting to 8 threads.\"}\n"
     ]
    },
    {
     "data": {
      "application/vnd.jupyter.widget-view+json": {
       "model_id": "f5b94db0a3f74bf3814524d531357b99",
       "version_major": 2,
       "version_minor": 0
      },
      "text/plain": [
       "Downloading https://raw.githubusercontent.com/stanfordnlp/stanza-resources/main/resources_1.4.1.json:   0%|   …"
      ]
     },
     "metadata": {},
     "output_type": "display_data"
    },
    {
     "name": "stdout",
     "output_type": "stream",
     "text": [
      "{\"time\":\"2023-11-17 15:12:36,241\", \"name\": \"stanza\", \"level\": \"INFO\", \"message\": \"Downloading default packages for language: multilingual (multilingual) ...\"}\n"
     ]
    },
    {
     "data": {
      "application/vnd.jupyter.widget-view+json": {
       "model_id": "9b15391fb1c84aa89129e5c364459534",
       "version_major": 2,
       "version_minor": 0
      },
      "text/plain": [
       "Downloading https://huggingface.co/stanfordnlp/stanza-multilingual/resolve/v1.4.1/models/default.zip:   0%|   …"
      ]
     },
     "metadata": {},
     "output_type": "display_data"
    },
    {
     "name": "stdout",
     "output_type": "stream",
     "text": [
      "{\"time\":\"2023-11-17 15:12:39,599\", \"name\": \"stanza\", \"level\": \"INFO\", \"message\": \"Finished downloading models and saved to /home/sjbuhan/stanza_resources.\"}\n"
     ]
    }
   ],
   "source": [
    "from primeqa.qg.models.qg_model import QGModel\n",
    "from tabulate import tabulate # only used to visualize table"
   ]
  },
  {
   "cell_type": "markdown",
   "id": "b9f309b8",
   "metadata": {},
   "source": [
    "## Loading pretrained model from huggingface\n",
    "\n",
    "This model was trained using PrimeQA library and uploaded to huggingface."
   ]
  },
  {
   "cell_type": "code",
   "execution_count": 2,
   "id": "2a3c5377",
   "metadata": {},
   "outputs": [
    {
     "data": {
      "application/vnd.jupyter.widget-view+json": {
       "model_id": "6b91d60da1424f2181efe8a966921af6",
       "version_major": 2,
       "version_minor": 0
      },
      "text/plain": [
       "Downloading (…)lve/main/config.json:   0%|          | 0.00/1.35k [00:00<?, ?B/s]"
      ]
     },
     "metadata": {},
     "output_type": "display_data"
    },
    {
     "data": {
      "application/vnd.jupyter.widget-view+json": {
       "model_id": "1f0a1a947f224345b30b41399d0a40fc",
       "version_major": 2,
       "version_minor": 0
      },
      "text/plain": [
       "Downloading pytorch_model.bin:   0%|          | 0.00/892M [00:00<?, ?B/s]"
      ]
     },
     "metadata": {},
     "output_type": "display_data"
    },
    {
     "data": {
      "application/vnd.jupyter.widget-view+json": {
       "model_id": "c9887cc036ae4528b2b27e6dec762e37",
       "version_major": 2,
       "version_minor": 0
      },
      "text/plain": [
       "Downloading (…)okenizer_config.json:   0%|          | 0.00/1.92k [00:00<?, ?B/s]"
      ]
     },
     "metadata": {},
     "output_type": "display_data"
    },
    {
     "data": {
      "application/vnd.jupyter.widget-view+json": {
       "model_id": "7aa188f82e06413a8044575dd8c2d59c",
       "version_major": 2,
       "version_minor": 0
      },
      "text/plain": [
       "Downloading (…)/main/tokenizer.json:   0%|          | 0.00/2.42M [00:00<?, ?B/s]"
      ]
     },
     "metadata": {},
     "output_type": "display_data"
    },
    {
     "data": {
      "application/vnd.jupyter.widget-view+json": {
       "model_id": "776045c7a089440da40faaff684d86ae",
       "version_major": 2,
       "version_minor": 0
      },
      "text/plain": [
       "Downloading (…)in/added_tokens.json:   0%|          | 0.00/98.0 [00:00<?, ?B/s]"
      ]
     },
     "metadata": {},
     "output_type": "display_data"
    }
   ],
   "source": [
    "model_name = 'PrimeQA/t5-base-table-question-generator'\n",
    "table_qg_model = QGModel(model_name, modality='table')"
   ]
  },
  {
   "cell_type": "markdown",
   "id": "984e88f0",
   "metadata": {},
   "source": [
    "<br>\n",
    "\n",
    "## Sample table\n",
    "\n",
    "Tables should be passed a `list` of `dicts`. Each `dict` will correspond to a table with keys `\"header\"` and `\"rows\"`."
   ]
  },
  {
   "cell_type": "code",
   "execution_count": 4,
   "id": "18419939",
   "metadata": {},
   "outputs": [
    {
     "name": "stdout",
     "output_type": "stream",
     "text": [
      "+---------------+-------+---------------+----------------+--------------------+----------------+\n",
      "| Player        |   No. | Nationality   | Position       | Years in Toronto   | School Team    |\n",
      "+===============+=======+===============+================+====================+================+\n",
      "| Antonio Lang  |    21 | United States | Guard-Forward  | 1999-2000          | Duke           |\n",
      "+---------------+-------+---------------+----------------+--------------------+----------------+\n",
      "| Voshon Lenard |     2 | United States | Guard          | 2002-03            | Minnesota      |\n",
      "+---------------+-------+---------------+----------------+--------------------+----------------+\n",
      "| Martin Lewis  |    32 | United States | Guard-Forward  | 1996-97            | Butler CC (KS) |\n",
      "+---------------+-------+---------------+----------------+--------------------+----------------+\n",
      "| Brad Lohaus   |    33 | United States | Forward-Center | 1996               | Iowa           |\n",
      "+---------------+-------+---------------+----------------+--------------------+----------------+\n",
      "| Art Long      |    42 | United States | Forward-Center | 2002-03            | Cincinnati     |\n",
      "+---------------+-------+---------------+----------------+--------------------+----------------+\n"
     ]
    }
   ],
   "source": [
    "table_list = [\n",
    "    {\"header\": [\"Player\", \"No.\", \"Nationality\", \"Position\", \"Years in Toronto\", \"School Team\"],\n",
    "      \"rows\": [\n",
    "            [\"Antonio Lang\", 21, \"United States\", \"Guard-Forward\", \"1999-2000\", \"Duke\"],\n",
    "            [\"Voshon Lenard\", 2, \"United States\", \"Guard\", \"2002-03\", \"Minnesota\"],\n",
    "            [\"Martin Lewis\", 32, \"United States\", \"Guard-Forward\", \"1996-97\", \"Butler CC (KS)\"],\n",
    "            [\"Brad Lohaus\", 33, \"United States\", \"Forward-Center\", \"1996\", \"Iowa\"],\n",
    "            [\"Art Long\", 42, \"United States\", \"Forward-Center\", \"2002-03\", \"Cincinnati\"]\n",
    "        ]\n",
    "    }\n",
    "]\n",
    "# [optional] include an id_list aligned with table_list\n",
    "id_list = [\"abcID123\"]\n",
    "\n",
    "print(tabulate(table_list[0]['rows'], headers=table_list[0]['header'], tablefmt='grid'))"
   ]
  },
  {
   "cell_type": "markdown",
   "id": "b002086c",
   "metadata": {},
   "source": [
    "## Generate questions\n",
    "\n",
    "There are some arguments to control the type of questions generated.\n",
    "#### Controls:\n",
    "- `num_questions_per_instance`: Number of questions to generate per table (default=5)\n",
    "- `agg_prob`: Probability distribution over aggregates. `agg_prob` should be a probability vector of length 6, with each index giving prob of an aggregate ops appearing in this order `['select', 'maximum', 'minimum', 'count', 'sum', 'average']`. (default=`[1,0,0,0,0,0]`)\n",
    "- `num_where_prob`: Should be a vector of size 5 with probablities of number of where clauses to use while generating sqls. If k where clause can't be generated the code tries to generate k-1 where clause query, and so on. (default: [0,1,0,0,0])\n",
    "- `ineq_prob`: Probability of generating inequality clauses in SQLs. It should be a float.(default=0.0)\n",
    "- `id_list`: Include an id_list of tables aligned with table_list, defaults to empty list."
   ]
  },
  {
   "cell_type": "code",
   "execution_count": 5,
   "id": "40b38a3f",
   "metadata": {},
   "outputs": [
    {
     "data": {
      "text/plain": [
       "[{'context_id': 'abcID123',\n",
       "  'context': 'select <<sep>> School Team <<sep>> Player <<cond>> equal <<cond>> Brad Lohaus <<answer>> iowa <<header>> Player <<hsep>> No. <<hsep>> Nationality <<hsep>> Position <<hsep>> Years in Toronto <<hsep>> School Team',\n",
       "  'questions': ['What school team did Brad Lohaus play for?'],\n",
       "  'answer': 'iowa'},\n",
       " {'context_id': 'abcID123',\n",
       "  'context': 'select <<sep>> School Team <<sep>> Player <<cond>> equal <<cond>> Martin Lewis <<answer>> butler cc (ks) <<header>> Player <<hsep>> No. <<hsep>> Nationality <<hsep>> Position <<hsep>> Years in Toronto <<hsep>> School Team',\n",
       "  'questions': ['What school team did Martin Lewis play for?'],\n",
       "  'answer': 'butler cc (ks)'},\n",
       " {'context_id': 'abcID123',\n",
       "  'context': 'select <<sep>> Position <<sep>> School Team <<cond>> equal <<cond>> Cincinnati <<answer>> forward-center <<header>> Player <<hsep>> No. <<hsep>> Nationality <<hsep>> Position <<hsep>> Years in Toronto <<hsep>> School Team',\n",
       "  'questions': ['What is the position of the player from Cincinnati?'],\n",
       "  'answer': 'forward-center'},\n",
       " {'context_id': 'abcID123',\n",
       "  'context': 'select <<sep>> Position <<sep>> School Team <<cond>> equal <<cond>> Minnesota <<answer>> guard <<header>> Player <<hsep>> No. <<hsep>> Nationality <<hsep>> Position <<hsep>> Years in Toronto <<hsep>> School Team',\n",
       "  'questions': ['What position does the player from Minnesota play?'],\n",
       "  'answer': 'guard'},\n",
       " {'context_id': 'abcID123',\n",
       "  'context': 'select <<sep>> School Team <<sep>> Years in Toronto <<cond>> equal <<cond>> 1996-97 <<answer>> butler cc (ks) <<header>> Player <<hsep>> No. <<hsep>> Nationality <<hsep>> Position <<hsep>> Years in Toronto <<hsep>> School Team',\n",
       "  'questions': ['Which School Team has a Years in Toronto of 1996-97?'],\n",
       "  'answer': 'butler cc (ks)'}]"
      ]
     },
     "execution_count": 5,
     "metadata": {},
     "output_type": "execute_result"
    }
   ],
   "source": [
    "table_qg_model.generate_questions(table_list, \n",
    "                                    num_questions_per_instance = 5,\n",
    "                                    agg_prob = [1.,0,0,0,0,0],\n",
    "                                    num_where_prob = [0,1.,0,0,0],\n",
    "                                    ineq_prob = 0.0,\n",
    "                                    id_list=id_list\n",
    "                                )"
   ]
  }
 ],
 "metadata": {
  "kernelspec": {
   "display_name": "Python 3 (ipykernel)",
   "language": "python",
   "name": "python3"
  },
  "language_info": {
   "codemirror_mode": {
    "name": "ipython",
    "version": 3
   },
   "file_extension": ".py",
   "mimetype": "text/x-python",
   "name": "python",
   "nbconvert_exporter": "python",
   "pygments_lexer": "ipython3",
   "version": "3.8.17"
  },
  "vscode": {
   "interpreter": {
    "hash": "7d21c3d80586c4cada912fbe8386ca6018c05632b838068c2d847893c1029454"
   }
  }
 },
 "nbformat": 4,
 "nbformat_minor": 5
}
