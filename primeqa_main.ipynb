{
 "cells": [
  {
   "cell_type": "markdown",
   "metadata": {},
   "source": [
    "# Tutorial: Generative QA with Retrieval Augmented Generation\n",
    "\n",
    "In this tutorial, you'll learn how to run generative question answering by connecting a retriever to a generative LLM. You'll also learn how to use prompts with a generative model to tune your answers. The system should also generate a response like \"Unanswerable\" if no evidence is found.\n",
    "\n",
    "You can plug-and-play this tutorial with most models on the HuggingFace model hub and also OpenAI LLMs. Some supported models include:\n",
    " - FLAN UL2-20B\n",
    " - FLAN T5 \n",
    " - Open AI ChatGPT (gpt-3.5-turbo)\n",
    " - InstructGPT(text-davinci-003)\n",
    " - lots more..\n",
    " \n",
    " \n",
    " \n",
    "## Step 0: Prepare a Colab Environment to run this tutorial on GPUs\n",
    "Make sure to \"Enable GPU Runtime\" by following this [url](https://drive.google.com/file/d/1jhE8CkieQXoW0gvz9IherTDdJY54Q4Yz/view?usp=sharing). This step will make sure the tutorial runs faster."
   ]
  },
  {
   "cell_type": "markdown",
   "metadata": {},
   "source": [
    "## Step 1: Install PrimeQA\n",
    "First, we need to include the required modules."
   ]
  },
  {
   "cell_type": "code",
   "execution_count": 1,
   "metadata": {},
   "outputs": [
    {
     "name": "stdout",
     "output_type": "stream",
     "text": [
      "Requirement already satisfied: primeqa in /home/sjbuhan/anaconda3/lib/python3.8/site-packages (0.15.4)\n",
      "Requirement already satisfied: bitarray~=2.3.7 in /home/sjbuhan/anaconda3/lib/python3.8/site-packages (from primeqa) (2.3.7)\n",
      "Requirement already satisfied: click~=8.0.4 in /home/sjbuhan/anaconda3/lib/python3.8/site-packages (from primeqa) (8.0.4)\n",
      "Requirement already satisfied: datasets[apache-beam]~=2.3.2 in /home/sjbuhan/anaconda3/lib/python3.8/site-packages (from primeqa) (2.3.2)\n",
      "Requirement already satisfied: faiss-cpu~=1.7.2 in /home/sjbuhan/anaconda3/lib/python3.8/site-packages (from primeqa) (1.7.4)\n",
      "Requirement already satisfied: gitpython~=3.1.27 in /home/sjbuhan/anaconda3/lib/python3.8/site-packages (from primeqa) (3.1.40)\n",
      "Requirement already satisfied: jsonlines~=3.0.0 in /home/sjbuhan/anaconda3/lib/python3.8/site-packages (from primeqa) (3.0.0)\n",
      "Requirement already satisfied: ninja~=1.10.2.3 in /home/sjbuhan/anaconda3/lib/python3.8/site-packages (from primeqa) (1.10.2.4)\n",
      "Requirement already satisfied: numpy~=1.21.5 in /home/sjbuhan/anaconda3/lib/python3.8/site-packages (from primeqa) (1.21.6)\n",
      "Requirement already satisfied: packaging~=21.3 in /home/sjbuhan/anaconda3/lib/python3.8/site-packages (from primeqa) (21.3)\n",
      "Requirement already satisfied: pandas~=1.4.0 in /home/sjbuhan/anaconda3/lib/python3.8/site-packages (from primeqa) (1.4.4)\n",
      "Requirement already satisfied: psutil~=5.9.0 in /home/sjbuhan/anaconda3/lib/python3.8/site-packages (from primeqa) (5.9.5)\n",
      "Requirement already satisfied: pyarrow~=7.0.0 in /home/sjbuhan/anaconda3/lib/python3.8/site-packages (from primeqa) (7.0.0)\n",
      "Requirement already satisfied: pyserini~=0.20.0 in /home/sjbuhan/anaconda3/lib/python3.8/site-packages (from primeqa) (0.20.0)\n",
      "Requirement already satisfied: scikit-learn~=1.0.2 in /home/sjbuhan/anaconda3/lib/python3.8/site-packages (from primeqa) (1.0.2)\n",
      "Requirement already satisfied: signals~=0.0.2 in /home/sjbuhan/anaconda3/lib/python3.8/site-packages (from primeqa) (0.0.2)\n",
      "Requirement already satisfied: stanza~=1.4.0 in /home/sjbuhan/anaconda3/lib/python3.8/site-packages (from primeqa) (1.4.2)\n",
      "Requirement already satisfied: torch~=1.11.0 in /home/sjbuhan/anaconda3/lib/python3.8/site-packages (from primeqa) (1.11.0)\n",
      "Requirement already satisfied: transformers~=4.24.0 in /home/sjbuhan/anaconda3/lib/python3.8/site-packages (from primeqa) (4.24.0)\n",
      "Requirement already satisfied: sentence-transformers in /home/sjbuhan/anaconda3/lib/python3.8/site-packages (from primeqa) (2.2.2)\n",
      "Requirement already satisfied: tensorboard in /home/sjbuhan/anaconda3/lib/python3.8/site-packages (from primeqa) (2.14.0)\n",
      "Requirement already satisfied: sentencepiece~=0.1.96 in /home/sjbuhan/anaconda3/lib/python3.8/site-packages (from primeqa) (0.1.99)\n",
      "Requirement already satisfied: ujson~=5.1.0 in /home/sjbuhan/anaconda3/lib/python3.8/site-packages (from primeqa) (5.1.0)\n",
      "Requirement already satisfied: tqdm~=4.64.0 in /home/sjbuhan/anaconda3/lib/python3.8/site-packages (from primeqa) (4.64.1)\n",
      "Requirement already satisfied: frozendict in /home/sjbuhan/anaconda3/lib/python3.8/site-packages (from primeqa) (2.3.8)\n",
      "Requirement already satisfied: nlp in /home/sjbuhan/anaconda3/lib/python3.8/site-packages (from primeqa) (0.4.0)\n",
      "Requirement already satisfied: protobuf~=3.20.0 in /home/sjbuhan/anaconda3/lib/python3.8/site-packages (from primeqa) (3.20.3)\n",
      "Requirement already satisfied: tabulate~=0.8.9 in /home/sjbuhan/anaconda3/lib/python3.8/site-packages (from primeqa) (0.8.10)\n",
      "Requirement already satisfied: rouge-score in /home/sjbuhan/anaconda3/lib/python3.8/site-packages (from primeqa) (0.1.2)\n",
      "Requirement already satisfied: rouge~=1.0.1 in /home/sjbuhan/anaconda3/lib/python3.8/site-packages (from primeqa) (1.0.1)\n",
      "Requirement already satisfied: grpcio~=1.48.1 in /home/sjbuhan/anaconda3/lib/python3.8/site-packages (from primeqa) (1.48.2)\n",
      "Requirement already satisfied: grpcio-tools~=1.48.1 in /home/sjbuhan/anaconda3/lib/python3.8/site-packages (from primeqa) (1.48.2)\n",
      "Requirement already satisfied: fastapi~=0.85.0 in /home/sjbuhan/anaconda3/lib/python3.8/site-packages (from primeqa) (0.85.2)\n",
      "Requirement already satisfied: anyio<4.0.0 in /home/sjbuhan/anaconda3/lib/python3.8/site-packages (from primeqa) (3.7.1)\n",
      "Requirement already satisfied: uvicorn~=0.18.0 in /home/sjbuhan/anaconda3/lib/python3.8/site-packages (from primeqa) (0.18.3)\n",
      "Requirement already satisfied: cachetools~=5.2.0 in /home/sjbuhan/anaconda3/lib/python3.8/site-packages (from primeqa) (5.2.1)\n",
      "Requirement already satisfied: sqlitedict~=2.0.0 in /home/sjbuhan/anaconda3/lib/python3.8/site-packages (from primeqa) (2.0.0)\n",
      "Requirement already satisfied: openai~=0.27.0 in /home/sjbuhan/anaconda3/lib/python3.8/site-packages (from primeqa) (0.27.10)\n",
      "Requirement already satisfied: nltk~=3.8.1 in /home/sjbuhan/anaconda3/lib/python3.8/site-packages (from primeqa) (3.8.1)\n",
      "Requirement already satisfied: idna>=2.8 in /home/sjbuhan/anaconda3/lib/python3.8/site-packages (from anyio<4.0.0->primeqa) (3.4)\n",
      "Requirement already satisfied: sniffio>=1.1 in /home/sjbuhan/anaconda3/lib/python3.8/site-packages (from anyio<4.0.0->primeqa) (1.3.0)\n",
      "Requirement already satisfied: exceptiongroup in /home/sjbuhan/anaconda3/lib/python3.8/site-packages (from anyio<4.0.0->primeqa) (1.1.3)\n",
      "Requirement already satisfied: dill<0.3.6 in /home/sjbuhan/anaconda3/lib/python3.8/site-packages (from datasets[apache-beam]~=2.3.2->primeqa) (0.3.1.1)\n",
      "Requirement already satisfied: requests>=2.19.0 in /home/sjbuhan/anaconda3/lib/python3.8/site-packages (from datasets[apache-beam]~=2.3.2->primeqa) (2.31.0)\n",
      "Requirement already satisfied: xxhash in /home/sjbuhan/anaconda3/lib/python3.8/site-packages (from datasets[apache-beam]~=2.3.2->primeqa) (3.4.1)\n",
      "Requirement already satisfied: multiprocess in /home/sjbuhan/anaconda3/lib/python3.8/site-packages (from datasets[apache-beam]~=2.3.2->primeqa) (0.70.9)\n",
      "Requirement already satisfied: fsspec[http]>=2021.05.0 in /home/sjbuhan/anaconda3/lib/python3.8/site-packages (from datasets[apache-beam]~=2.3.2->primeqa) (2023.9.2)\n",
      "Requirement already satisfied: aiohttp in /home/sjbuhan/anaconda3/lib/python3.8/site-packages (from datasets[apache-beam]~=2.3.2->primeqa) (3.8.6)\n",
      "Requirement already satisfied: huggingface-hub<1.0.0,>=0.1.0 in /home/sjbuhan/anaconda3/lib/python3.8/site-packages (from datasets[apache-beam]~=2.3.2->primeqa) (0.17.3)\n",
      "Requirement already satisfied: responses<0.19 in /home/sjbuhan/anaconda3/lib/python3.8/site-packages (from datasets[apache-beam]~=2.3.2->primeqa) (0.18.0)\n",
      "Requirement already satisfied: apache-beam>=2.26.0 in /home/sjbuhan/anaconda3/lib/python3.8/site-packages (from datasets[apache-beam]~=2.3.2->primeqa) (2.50.0)\n",
      "Requirement already satisfied: pydantic!=1.7,!=1.7.1,!=1.7.2,!=1.7.3,!=1.8,!=1.8.1,<2.0.0,>=1.6.2 in /home/sjbuhan/anaconda3/lib/python3.8/site-packages (from fastapi~=0.85.0->primeqa) (1.10.11)\n",
      "Requirement already satisfied: starlette==0.20.4 in /home/sjbuhan/anaconda3/lib/python3.8/site-packages (from fastapi~=0.85.0->primeqa) (0.20.4)\n",
      "Requirement already satisfied: typing-extensions>=3.10.0 in /home/sjbuhan/anaconda3/lib/python3.8/site-packages (from starlette==0.20.4->fastapi~=0.85.0->primeqa) (4.8.0)\n",
      "Requirement already satisfied: gitdb<5,>=4.0.1 in /home/sjbuhan/anaconda3/lib/python3.8/site-packages (from gitpython~=3.1.27->primeqa) (4.0.11)\n",
      "Requirement already satisfied: six>=1.5.2 in /home/sjbuhan/anaconda3/lib/python3.8/site-packages (from grpcio~=1.48.1->primeqa) (1.16.0)\n",
      "Requirement already satisfied: setuptools in /home/sjbuhan/anaconda3/lib/python3.8/site-packages (from grpcio-tools~=1.48.1->primeqa) (68.2.2)\n",
      "Requirement already satisfied: attrs>=19.2.0 in /home/sjbuhan/anaconda3/lib/python3.8/site-packages (from jsonlines~=3.0.0->primeqa) (23.1.0)\n",
      "Requirement already satisfied: joblib in /home/sjbuhan/anaconda3/lib/python3.8/site-packages (from nltk~=3.8.1->primeqa) (1.3.1)\n",
      "Requirement already satisfied: regex>=2021.8.3 in /home/sjbuhan/anaconda3/lib/python3.8/site-packages (from nltk~=3.8.1->primeqa) (2023.10.3)\n",
      "Requirement already satisfied: pyparsing!=3.0.5,>=2.0.2 in /home/sjbuhan/anaconda3/lib/python3.8/site-packages (from packaging~=21.3->primeqa) (3.1.1)\n",
      "Requirement already satisfied: python-dateutil>=2.8.1 in /home/sjbuhan/anaconda3/lib/python3.8/site-packages (from pandas~=1.4.0->primeqa) (2.8.2)\n",
      "Requirement already satisfied: pytz>=2020.1 in /home/sjbuhan/anaconda3/lib/python3.8/site-packages (from pandas~=1.4.0->primeqa) (2023.3.post1)\n",
      "Requirement already satisfied: Cython>=0.29.21 in /home/sjbuhan/anaconda3/lib/python3.8/site-packages (from pyserini~=0.20.0->primeqa) (3.0.5)\n",
      "Requirement already satisfied: pyjnius>=1.4.0 in /home/sjbuhan/anaconda3/lib/python3.8/site-packages (from pyserini~=0.20.0->primeqa) (1.6.1)\n",
      "Requirement already satisfied: scipy>=1.4.1 in /home/sjbuhan/anaconda3/lib/python3.8/site-packages (from pyserini~=0.20.0->primeqa) (1.10.1)\n",
      "Requirement already satisfied: nmslib>=2.1.1 in /home/sjbuhan/anaconda3/lib/python3.8/site-packages (from pyserini~=0.20.0->primeqa) (2.1.1)\n",
      "Requirement already satisfied: onnxruntime>=1.8.1 in /home/sjbuhan/anaconda3/lib/python3.8/site-packages (from pyserini~=0.20.0->primeqa) (1.16.2)\n",
      "Requirement already satisfied: lightgbm>=3.3.2 in /home/sjbuhan/anaconda3/lib/python3.8/site-packages (from pyserini~=0.20.0->primeqa) (4.1.0)\n",
      "Requirement already satisfied: spacy>=3.2.1 in /home/sjbuhan/anaconda3/lib/python3.8/site-packages (from pyserini~=0.20.0->primeqa) (3.7.2)\n",
      "Requirement already satisfied: threadpoolctl>=2.0.0 in /home/sjbuhan/anaconda3/lib/python3.8/site-packages (from scikit-learn~=1.0.2->primeqa) (3.2.0)\n",
      "Requirement already satisfied: emoji in /home/sjbuhan/anaconda3/lib/python3.8/site-packages (from stanza~=1.4.0->primeqa) (2.8.0)\n",
      "Requirement already satisfied: filelock in /home/sjbuhan/anaconda3/lib/python3.8/site-packages (from transformers~=4.24.0->primeqa) (3.12.4)\n",
      "Requirement already satisfied: pyyaml>=5.1 in /home/sjbuhan/anaconda3/lib/python3.8/site-packages (from transformers~=4.24.0->primeqa) (6.0.1)\n",
      "Requirement already satisfied: tokenizers!=0.11.3,<0.14,>=0.11.1 in /home/sjbuhan/anaconda3/lib/python3.8/site-packages (from transformers~=4.24.0->primeqa) (0.13.3)\n",
      "Requirement already satisfied: h11>=0.8 in /home/sjbuhan/anaconda3/lib/python3.8/site-packages (from uvicorn~=0.18.0->primeqa) (0.14.0)\n",
      "Requirement already satisfied: absl-py in /home/sjbuhan/anaconda3/lib/python3.8/site-packages (from rouge-score->primeqa) (1.4.0)\n",
      "Requirement already satisfied: torchvision in /home/sjbuhan/anaconda3/lib/python3.8/site-packages (from sentence-transformers->primeqa) (0.12.0)\n",
      "Requirement already satisfied: google-auth<3,>=1.6.3 in /home/sjbuhan/anaconda3/lib/python3.8/site-packages (from tensorboard->primeqa) (2.23.3)\n",
      "Requirement already satisfied: google-auth-oauthlib<1.1,>=0.5 in /home/sjbuhan/anaconda3/lib/python3.8/site-packages (from tensorboard->primeqa) (1.0.0)\n",
      "Requirement already satisfied: markdown>=2.6.8 in /home/sjbuhan/anaconda3/lib/python3.8/site-packages (from tensorboard->primeqa) (3.3.4)\n",
      "Requirement already satisfied: tensorboard-data-server<0.8.0,>=0.7.0 in /home/sjbuhan/anaconda3/lib/python3.8/site-packages (from tensorboard->primeqa) (0.7.1)\n",
      "Requirement already satisfied: werkzeug>=1.0.1 in /home/sjbuhan/anaconda3/lib/python3.8/site-packages (from tensorboard->primeqa) (2.3.6)\n",
      "Requirement already satisfied: wheel>=0.26 in /home/sjbuhan/anaconda3/lib/python3.8/site-packages (from tensorboard->primeqa) (0.36.2)\n",
      "Requirement already satisfied: crcmod<2.0,>=1.7 in /home/sjbuhan/anaconda3/lib/python3.8/site-packages (from apache-beam>=2.26.0->datasets[apache-beam]~=2.3.2->primeqa) (1.7)\n",
      "Requirement already satisfied: orjson<4.0 in /home/sjbuhan/anaconda3/lib/python3.8/site-packages (from apache-beam>=2.26.0->datasets[apache-beam]~=2.3.2->primeqa) (3.9.9)\n",
      "Requirement already satisfied: cloudpickle~=2.2.1 in /home/sjbuhan/anaconda3/lib/python3.8/site-packages (from apache-beam>=2.26.0->datasets[apache-beam]~=2.3.2->primeqa) (2.2.1)\n",
      "Requirement already satisfied: fastavro<2,>=0.23.6 in /home/sjbuhan/anaconda3/lib/python3.8/site-packages (from apache-beam>=2.26.0->datasets[apache-beam]~=2.3.2->primeqa) (1.9.0)\n",
      "Requirement already satisfied: fasteners<1.0,>=0.3 in /home/sjbuhan/anaconda3/lib/python3.8/site-packages (from apache-beam>=2.26.0->datasets[apache-beam]~=2.3.2->primeqa) (0.19)\n",
      "Requirement already satisfied: hdfs<3.0.0,>=2.1.0 in /home/sjbuhan/anaconda3/lib/python3.8/site-packages (from apache-beam>=2.26.0->datasets[apache-beam]~=2.3.2->primeqa) (2.7.3)\n",
      "Requirement already satisfied: httplib2<0.23.0,>=0.8 in /home/sjbuhan/anaconda3/lib/python3.8/site-packages (from apache-beam>=2.26.0->datasets[apache-beam]~=2.3.2->primeqa) (0.22.0)\n",
      "Requirement already satisfied: objsize<0.7.0,>=0.6.1 in /home/sjbuhan/anaconda3/lib/python3.8/site-packages (from apache-beam>=2.26.0->datasets[apache-beam]~=2.3.2->primeqa) (0.6.1)\n",
      "Requirement already satisfied: pymongo<5.0.0,>=3.8.0 in /home/sjbuhan/anaconda3/lib/python3.8/site-packages (from apache-beam>=2.26.0->datasets[apache-beam]~=2.3.2->primeqa) (4.6.0)\n",
      "Requirement already satisfied: proto-plus<2,>=1.7.1 in /home/sjbuhan/anaconda3/lib/python3.8/site-packages (from apache-beam>=2.26.0->datasets[apache-beam]~=2.3.2->primeqa) (1.22.3)\n",
      "Requirement already satisfied: pydot<2,>=1.2.0 in /home/sjbuhan/anaconda3/lib/python3.8/site-packages (from apache-beam>=2.26.0->datasets[apache-beam]~=2.3.2->primeqa) (1.4.2)\n",
      "Requirement already satisfied: zstandard<1,>=0.18.0 in /home/sjbuhan/anaconda3/lib/python3.8/site-packages (from apache-beam>=2.26.0->datasets[apache-beam]~=2.3.2->primeqa) (0.21.0)\n",
      "Requirement already satisfied: charset-normalizer<4.0,>=2.0 in /home/sjbuhan/anaconda3/lib/python3.8/site-packages (from aiohttp->datasets[apache-beam]~=2.3.2->primeqa) (3.3.0)\n",
      "Requirement already satisfied: multidict<7.0,>=4.5 in /home/sjbuhan/anaconda3/lib/python3.8/site-packages (from aiohttp->datasets[apache-beam]~=2.3.2->primeqa) (6.0.4)\n",
      "Requirement already satisfied: async-timeout<5.0,>=4.0.0a3 in /home/sjbuhan/anaconda3/lib/python3.8/site-packages (from aiohttp->datasets[apache-beam]~=2.3.2->primeqa) (4.0.3)\n",
      "Requirement already satisfied: yarl<2.0,>=1.0 in /home/sjbuhan/anaconda3/lib/python3.8/site-packages (from aiohttp->datasets[apache-beam]~=2.3.2->primeqa) (1.9.2)\n",
      "Requirement already satisfied: frozenlist>=1.1.1 in /home/sjbuhan/anaconda3/lib/python3.8/site-packages (from aiohttp->datasets[apache-beam]~=2.3.2->primeqa) (1.4.0)\n",
      "Requirement already satisfied: aiosignal>=1.1.2 in /home/sjbuhan/anaconda3/lib/python3.8/site-packages (from aiohttp->datasets[apache-beam]~=2.3.2->primeqa) (1.3.1)\n",
      "Requirement already satisfied: smmap<6,>=3.0.1 in /home/sjbuhan/anaconda3/lib/python3.8/site-packages (from gitdb<5,>=4.0.1->gitpython~=3.1.27->primeqa) (5.0.1)\n",
      "Requirement already satisfied: pyasn1-modules>=0.2.1 in /home/sjbuhan/anaconda3/lib/python3.8/site-packages (from google-auth<3,>=1.6.3->tensorboard->primeqa) (0.2.8)\n",
      "Requirement already satisfied: rsa<5,>=3.1.4 in /home/sjbuhan/anaconda3/lib/python3.8/site-packages (from google-auth<3,>=1.6.3->tensorboard->primeqa) (4.7.2)\n",
      "Requirement already satisfied: requests-oauthlib>=0.7.0 in /home/sjbuhan/anaconda3/lib/python3.8/site-packages (from google-auth-oauthlib<1.1,>=0.5->tensorboard->primeqa) (1.3.0)\n",
      "Requirement already satisfied: pybind11<2.6.2 in /home/sjbuhan/anaconda3/lib/python3.8/site-packages (from nmslib>=2.1.1->pyserini~=0.20.0->primeqa) (2.6.1)\n",
      "Requirement already satisfied: coloredlogs in /home/sjbuhan/anaconda3/lib/python3.8/site-packages (from onnxruntime>=1.8.1->pyserini~=0.20.0->primeqa) (15.0.1)\n",
      "Requirement already satisfied: flatbuffers in /home/sjbuhan/anaconda3/lib/python3.8/site-packages (from onnxruntime>=1.8.1->pyserini~=0.20.0->primeqa) (1.12)\n",
      "Requirement already satisfied: sympy in /home/sjbuhan/anaconda3/lib/python3.8/site-packages (from onnxruntime>=1.8.1->pyserini~=0.20.0->primeqa) (1.12)\n",
      "Requirement already satisfied: urllib3<3,>=1.21.1 in /home/sjbuhan/anaconda3/lib/python3.8/site-packages (from requests>=2.19.0->datasets[apache-beam]~=2.3.2->primeqa) (2.0.6)\n",
      "Requirement already satisfied: certifi>=2017.4.17 in /home/sjbuhan/anaconda3/lib/python3.8/site-packages (from requests>=2.19.0->datasets[apache-beam]~=2.3.2->primeqa) (2023.7.22)\n",
      "Requirement already satisfied: spacy-legacy<3.1.0,>=3.0.11 in /home/sjbuhan/anaconda3/lib/python3.8/site-packages (from spacy>=3.2.1->pyserini~=0.20.0->primeqa) (3.0.12)\n",
      "Requirement already satisfied: spacy-loggers<2.0.0,>=1.0.0 in /home/sjbuhan/anaconda3/lib/python3.8/site-packages (from spacy>=3.2.1->pyserini~=0.20.0->primeqa) (1.0.5)\n",
      "Requirement already satisfied: murmurhash<1.1.0,>=0.28.0 in /home/sjbuhan/anaconda3/lib/python3.8/site-packages (from spacy>=3.2.1->pyserini~=0.20.0->primeqa) (1.0.10)\n",
      "Requirement already satisfied: cymem<2.1.0,>=2.0.2 in /home/sjbuhan/anaconda3/lib/python3.8/site-packages (from spacy>=3.2.1->pyserini~=0.20.0->primeqa) (2.0.8)\n",
      "Requirement already satisfied: preshed<3.1.0,>=3.0.2 in /home/sjbuhan/anaconda3/lib/python3.8/site-packages (from spacy>=3.2.1->pyserini~=0.20.0->primeqa) (3.0.9)\n",
      "Requirement already satisfied: thinc<8.3.0,>=8.1.8 in /home/sjbuhan/anaconda3/lib/python3.8/site-packages (from spacy>=3.2.1->pyserini~=0.20.0->primeqa) (8.2.1)\n",
      "Requirement already satisfied: wasabi<1.2.0,>=0.9.1 in /home/sjbuhan/anaconda3/lib/python3.8/site-packages (from spacy>=3.2.1->pyserini~=0.20.0->primeqa) (1.1.2)\n",
      "Requirement already satisfied: srsly<3.0.0,>=2.4.3 in /home/sjbuhan/anaconda3/lib/python3.8/site-packages (from spacy>=3.2.1->pyserini~=0.20.0->primeqa) (2.4.8)\n",
      "Requirement already satisfied: catalogue<2.1.0,>=2.0.6 in /home/sjbuhan/anaconda3/lib/python3.8/site-packages (from spacy>=3.2.1->pyserini~=0.20.0->primeqa) (2.0.10)\n",
      "Requirement already satisfied: weasel<0.4.0,>=0.1.0 in /home/sjbuhan/anaconda3/lib/python3.8/site-packages (from spacy>=3.2.1->pyserini~=0.20.0->primeqa) (0.3.4)\n",
      "Requirement already satisfied: typer<0.10.0,>=0.3.0 in /home/sjbuhan/anaconda3/lib/python3.8/site-packages (from spacy>=3.2.1->pyserini~=0.20.0->primeqa) (0.9.0)\n",
      "Requirement already satisfied: smart-open<7.0.0,>=5.2.1 in /home/sjbuhan/anaconda3/lib/python3.8/site-packages (from spacy>=3.2.1->pyserini~=0.20.0->primeqa) (6.4.0)\n",
      "Requirement already satisfied: jinja2 in /home/sjbuhan/anaconda3/lib/python3.8/site-packages (from spacy>=3.2.1->pyserini~=0.20.0->primeqa) (3.1.2)\n",
      "Requirement already satisfied: langcodes<4.0.0,>=3.2.0 in /home/sjbuhan/anaconda3/lib/python3.8/site-packages (from spacy>=3.2.1->pyserini~=0.20.0->primeqa) (3.3.0)\n",
      "Requirement already satisfied: MarkupSafe>=2.1.1 in /home/sjbuhan/anaconda3/lib/python3.8/site-packages (from werkzeug>=1.0.1->tensorboard->primeqa) (2.1.3)\n",
      "Requirement already satisfied: pillow!=8.3.*,>=5.3.0 in /home/sjbuhan/anaconda3/lib/python3.8/site-packages (from torchvision->sentence-transformers->primeqa) (10.0.0)\n",
      "Requirement already satisfied: docopt in /home/sjbuhan/anaconda3/lib/python3.8/site-packages (from hdfs<3.0.0,>=2.1.0->apache-beam>=2.26.0->datasets[apache-beam]~=2.3.2->primeqa) (0.6.2)\n",
      "Requirement already satisfied: pyasn1<0.5.0,>=0.4.6 in /home/sjbuhan/anaconda3/lib/python3.8/site-packages (from pyasn1-modules>=0.2.1->google-auth<3,>=1.6.3->tensorboard->primeqa) (0.4.8)\n",
      "Requirement already satisfied: dnspython<3.0.0,>=1.16.0 in /home/sjbuhan/anaconda3/lib/python3.8/site-packages (from pymongo<5.0.0,>=3.8.0->apache-beam>=2.26.0->datasets[apache-beam]~=2.3.2->primeqa) (2.4.2)\n",
      "Requirement already satisfied: oauthlib>=3.0.0 in /home/sjbuhan/anaconda3/lib/python3.8/site-packages (from requests-oauthlib>=0.7.0->google-auth-oauthlib<1.1,>=0.5->tensorboard->primeqa) (3.1.0)\n",
      "Requirement already satisfied: blis<0.8.0,>=0.7.8 in /home/sjbuhan/anaconda3/lib/python3.8/site-packages (from thinc<8.3.0,>=8.1.8->spacy>=3.2.1->pyserini~=0.20.0->primeqa) (0.7.11)\n",
      "Requirement already satisfied: confection<1.0.0,>=0.0.1 in /home/sjbuhan/anaconda3/lib/python3.8/site-packages (from thinc<8.3.0,>=8.1.8->spacy>=3.2.1->pyserini~=0.20.0->primeqa) (0.1.3)\n",
      "Requirement already satisfied: cloudpathlib<0.17.0,>=0.7.0 in /home/sjbuhan/anaconda3/lib/python3.8/site-packages (from weasel<0.4.0,>=0.1.0->spacy>=3.2.1->pyserini~=0.20.0->primeqa) (0.16.0)\n",
      "Requirement already satisfied: humanfriendly>=9.1 in /home/sjbuhan/anaconda3/lib/python3.8/site-packages (from coloredlogs->onnxruntime>=1.8.1->pyserini~=0.20.0->primeqa) (10.0)\n",
      "Requirement already satisfied: mpmath>=0.19 in /home/sjbuhan/anaconda3/lib/python3.8/site-packages (from sympy->onnxruntime>=1.8.1->pyserini~=0.20.0->primeqa) (1.3.0)\n"
     ]
    }
   ],
   "source": [
    "! pip install --upgrade primeqa"
   ]
  },
  {
   "cell_type": "markdown",
   "metadata": {},
   "source": [
    "## Step 2: Initialize the Retriever"
   ]
  },
  {
   "cell_type": "markdown",
   "metadata": {},
   "source": [
    "### Pre-process your document collection here to be ready to be stored in your Neural Search Index.\n",
    "In this step we download a publicly available .csv file from a Google Drive location and save it as .tsv."
   ]
  },
  {
   "cell_type": "code",
   "execution_count": 3,
   "metadata": {
    "ExecuteTime": {
     "end_time": "2023-06-18T02:45:01.744096500Z",
     "start_time": "2023-06-18T02:45:00.654342900Z"
    }
   },
   "outputs": [],
   "source": [
    "# save your input document as a .tsv\n",
    "import pandas as pd\n",
    "url='https://drive.google.com/file/d/1LULJRPgN_hfuI2kG-wH4FUwXCCdDh9zh/view?usp=sharing'\n",
    "url='https://drive.google.com/uc?id=' + url.split('/')[-2]\n",
    "df = pd.read_csv(url)\n",
    "df.to_csv('input.tsv', sep='\\t', columns = ['text', 'title'])"
   ]
  },
  {
   "cell_type": "code",
   "execution_count": 4,
   "metadata": {},
   "outputs": [
    {
     "data": {
      "text/html": [
       "<div>\n",
       "<style scoped>\n",
       "    .dataframe tbody tr th:only-of-type {\n",
       "        vertical-align: middle;\n",
       "    }\n",
       "\n",
       "    .dataframe tbody tr th {\n",
       "        vertical-align: top;\n",
       "    }\n",
       "\n",
       "    .dataframe thead th {\n",
       "        text-align: right;\n",
       "    }\n",
       "</style>\n",
       "<table border=\"1\" class=\"dataframe\">\n",
       "  <thead>\n",
       "    <tr style=\"text-align: right;\">\n",
       "      <th></th>\n",
       "      <th>title</th>\n",
       "      <th>text</th>\n",
       "    </tr>\n",
       "  </thead>\n",
       "  <tbody>\n",
       "    <tr>\n",
       "      <th>0</th>\n",
       "      <td>\"Albert Einstein\"</td>\n",
       "      <td>to Einstein in 1922. Footnotes Citations Alber...</td>\n",
       "    </tr>\n",
       "    <tr>\n",
       "      <th>1</th>\n",
       "      <td>\"Albert Einstein\"</td>\n",
       "      <td>Albert Einstein Albert Einstein (; ; 14 March ...</td>\n",
       "    </tr>\n",
       "    <tr>\n",
       "      <th>2</th>\n",
       "      <td>\"Albert Einstein\"</td>\n",
       "      <td>observations were published in the internation...</td>\n",
       "    </tr>\n",
       "    <tr>\n",
       "      <th>3</th>\n",
       "      <td>\"Albert Einstein\"</td>\n",
       "      <td>model for depictions of mad scientists and abs...</td>\n",
       "    </tr>\n",
       "    <tr>\n",
       "      <th>4</th>\n",
       "      <td>\"Alfred Nobel\"</td>\n",
       "      <td>was adopted as the standard technology for min...</td>\n",
       "    </tr>\n",
       "    <tr>\n",
       "      <th>...</th>\n",
       "      <td>...</td>\n",
       "      <td>...</td>\n",
       "    </tr>\n",
       "    <tr>\n",
       "      <th>70</th>\n",
       "      <td>\"The Ashes\"</td>\n",
       "      <td>In England and Wales, the grounds used are: Ol...</td>\n",
       "    </tr>\n",
       "    <tr>\n",
       "      <th>71</th>\n",
       "      <td>\"The Ashes\"</td>\n",
       "      <td>1978–79; 1981; 1985; 1989; 1993 and 1997). Aus...</td>\n",
       "    </tr>\n",
       "    <tr>\n",
       "      <th>72</th>\n",
       "      <td>\"The Ashes\"</td>\n",
       "      <td>Ground (MCG) (1876–77), and the Sydney Cricket...</td>\n",
       "    </tr>\n",
       "    <tr>\n",
       "      <th>73</th>\n",
       "      <td>\"The Ashes\"</td>\n",
       "      <td>therefore will not host an Ashes Test until at...</td>\n",
       "    </tr>\n",
       "    <tr>\n",
       "      <th>74</th>\n",
       "      <td>\"The Ashes\"</td>\n",
       "      <td>The Ashes The Ashes is a Test cricket series p...</td>\n",
       "    </tr>\n",
       "  </tbody>\n",
       "</table>\n",
       "<p>75 rows × 2 columns</p>\n",
       "</div>"
      ],
      "text/plain": [
       "                title                                               text\n",
       "0   \"Albert Einstein\"  to Einstein in 1922. Footnotes Citations Alber...\n",
       "1   \"Albert Einstein\"  Albert Einstein Albert Einstein (; ; 14 March ...\n",
       "2   \"Albert Einstein\"  observations were published in the internation...\n",
       "3   \"Albert Einstein\"  model for depictions of mad scientists and abs...\n",
       "4      \"Alfred Nobel\"  was adopted as the standard technology for min...\n",
       "..                ...                                                ...\n",
       "70        \"The Ashes\"  In England and Wales, the grounds used are: Ol...\n",
       "71        \"The Ashes\"  1978–79; 1981; 1985; 1989; 1993 and 1997). Aus...\n",
       "72        \"The Ashes\"  Ground (MCG) (1876–77), and the Sydney Cricket...\n",
       "73        \"The Ashes\"  therefore will not host an Ashes Test until at...\n",
       "74        \"The Ashes\"  The Ashes The Ashes is a Test cricket series p...\n",
       "\n",
       "[75 rows x 2 columns]"
      ]
     },
     "execution_count": 4,
     "metadata": {},
     "output_type": "execute_result"
    }
   ],
   "source": [
    "df"
   ]
  },
  {
   "cell_type": "markdown",
   "metadata": {},
   "source": [
    "### Initialize the model. In PrimeQA we use the SearchableCorpus class for searching through your corpus.\n",
    "\n",
    "For DPR, you need to point to a question and context encoder models available via the HuggingFace model hub."
   ]
  },
  {
   "cell_type": "code",
   "execution_count": 5,
   "metadata": {
    "ExecuteTime": {
     "end_time": "2023-06-18T02:53:51.058138100Z",
     "start_time": "2023-06-18T02:53:49.591435600Z"
    }
   },
   "outputs": [
    {
     "name": "stderr",
     "output_type": "stream",
     "text": [
      "2023-11-17 15:02:12.975342: W tensorflow/stream_executor/platform/default/dso_loader.cc:64] Could not load dynamic library 'libcudart.so.11.0'; dlerror: libcudart.so.11.0: cannot open shared object file: No such file or directory; LD_LIBRARY_PATH: /path/to/anaconda/envs/myenv/lib:/usr/local/cuda/lib64:/usr/local/cuda-11.7/lib64::/usr/local/cuda/lib64:/usr/local/cuda-11.7/lib64\n"
     ]
    },
    {
     "name": "stdout",
     "output_type": "stream",
     "text": [
      "{\"time\":\"2023-11-17 15:02:15,508\", \"name\": \"faiss.loader\", \"level\": \"INFO\", \"message\": \"Loading faiss with AVX2 support.\"}\n",
      "{\"time\":\"2023-11-17 15:02:15,525\", \"name\": \"faiss.loader\", \"level\": \"INFO\", \"message\": \"Successfully loaded faiss with AVX2 support.\"}\n"
     ]
    }
   ],
   "source": [
    "from primeqa.components import SearchableCorpus\n",
    "retriever = SearchableCorpus(context_encoder_name_or_path=\"PrimeQA/XOR-TyDi_monolingual_DPR_ctx_encoder\",\n",
    "                             query_encoder_name_or_path=\"PrimeQA/XOR-TyDi_monolingual_DPR_qry_encoder\",\n",
    "                             batch_size=64, top_k=10)"
   ]
  },
  {
   "cell_type": "markdown",
   "metadata": {},
   "source": [
    "### Add your documents into the searchable corpus.\n",
    "\n",
    "The input.tsv file can be added to the searchable corpus and it assumes the following format as needed by DPR:\n",
    "\n",
    "`id \\t text \\t title_of_document`\n",
    "\n",
    "Note: since DPR is based on an encoder language model the typical sequence length is 512 max sub-word tokens. Make sure your documents are split into text length of ~220 words."
   ]
  },
  {
   "cell_type": "code",
   "execution_count": 6,
   "metadata": {
    "ExecuteTime": {
     "end_time": "2023-06-18T02:53:59.452981800Z",
     "start_time": "2023-06-18T02:53:56.506429300Z"
    }
   },
   "outputs": [
    {
     "data": {
      "application/vnd.jupyter.widget-view+json": {
       "model_id": "3ef605d9a4fc4887941cd342dcee26ea",
       "version_major": 2,
       "version_minor": 0
      },
      "text/plain": [
       "Downloading (…)lve/main/config.json:   0%|          | 0.00/658 [00:00<?, ?B/s]"
      ]
     },
     "metadata": {},
     "output_type": "display_data"
    },
    {
     "data": {
      "application/vnd.jupyter.widget-view+json": {
       "model_id": "06407e4292214e6ca12ffe380386b6e1",
       "version_major": 2,
       "version_minor": 0
      },
      "text/plain": [
       "Downloading pytorch_model.bin:   0%|          | 0.00/436M [00:00<?, ?B/s]"
      ]
     },
     "metadata": {},
     "output_type": "display_data"
    },
    {
     "data": {
      "application/vnd.jupyter.widget-view+json": {
       "model_id": "707e412114564bb1be860fd198dd4077",
       "version_major": 2,
       "version_minor": 0
      },
      "text/plain": [
       "Downloading (…)okenizer_config.json:   0%|          | 0.00/355 [00:00<?, ?B/s]"
      ]
     },
     "metadata": {},
     "output_type": "display_data"
    },
    {
     "data": {
      "application/vnd.jupyter.widget-view+json": {
       "model_id": "b4ea69faeda54ba096d328de39a094ad",
       "version_major": 2,
       "version_minor": 0
      },
      "text/plain": [
       "Downloading (…)solve/main/vocab.txt:   0%|          | 0.00/232k [00:00<?, ?B/s]"
      ]
     },
     "metadata": {},
     "output_type": "display_data"
    },
    {
     "data": {
      "application/vnd.jupyter.widget-view+json": {
       "model_id": "fdfc83940817472ea65c9d6f8db0d595",
       "version_major": 2,
       "version_minor": 0
      },
      "text/plain": [
       "Downloading (…)/main/tokenizer.json:   0%|          | 0.00/711k [00:00<?, ?B/s]"
      ]
     },
     "metadata": {},
     "output_type": "display_data"
    },
    {
     "data": {
      "application/vnd.jupyter.widget-view+json": {
       "model_id": "5615e5fb9b6c45d7b36a7db1ced5866a",
       "version_major": 2,
       "version_minor": 0
      },
      "text/plain": [
       "Downloading (…)cial_tokens_map.json:   0%|          | 0.00/112 [00:00<?, ?B/s]"
      ]
     },
     "metadata": {},
     "output_type": "display_data"
    },
    {
     "name": "stdout",
     "output_type": "stream",
     "text": [
      "{\"time\":\"2023-11-17 15:03:25,360\", \"name\": \"primeqa.ir.dense.dpr_top.dpr.index_simple_corpus\", \"level\": \"INFO\", \"message\": \"wrote passages_1_of_1.json.gz.records in 0 seconds\"}\n",
      "{\"time\":\"2023-11-17 15:03:25,361\", \"name\": \"primeqa.ir.dense.dpr_top.dpr.faiss_index\", \"level\": \"INFO\", \"message\": \"building index, reading data from dpr_index_dir/passages_1_of_1.json.gz.records, writing to dpr_index_dir/index_1_of_1.faiss\"}\n",
      "{\"time\":\"2023-11-17 15:03:25,364\", \"name\": \"primeqa.ir.dense.dpr_top.dpr.faiss_index\", \"level\": \"INFO\", \"message\": \"processed 0 passages\"}\n",
      "{\"time\":\"2023-11-17 15:03:25,370\", \"name\": \"primeqa.ir.dense.dpr_top.dpr.faiss_index\", \"level\": \"INFO\", \"message\": \"calling index.add with 76 vectors\"}\n",
      "{\"time\":\"2023-11-17 15:03:25,373\", \"name\": \"primeqa.ir.dense.dpr_top.dpr.faiss_index\", \"level\": \"INFO\", \"message\": \"processed 76 passages\"}\n",
      "{\"time\":\"2023-11-17 15:03:25,374\", \"name\": \"primeqa.ir.dense.dpr_top.dpr.faiss_index\", \"level\": \"INFO\", \"message\": \"finished building index, writing index file to dpr_index_dir/index_1_of_1.faiss\"}\n",
      "{\"time\":\"2023-11-17 15:03:25,375\", \"name\": \"primeqa.ir.dense.dpr_top.dpr.faiss_index\", \"level\": \"INFO\", \"message\": \"took 0 seconds\"}\n",
      "{\"time\":\"2023-11-17 15:03:25,376\", \"name\": \"primeqa.ir.dense.dpr_top.torch_util.hypers_base\", \"level\": \"INFO\", \"message\": \"world_rank 0 cuda_is_available True cuda_device_cnt 4 on sclab-s1, CUDA_VISIBLE_DEVICES = NOT SET\"}\n"
     ]
    },
    {
     "data": {
      "application/vnd.jupyter.widget-view+json": {
       "model_id": "3108428a689d4bf4bcd5870af5fee55e",
       "version_major": 2,
       "version_minor": 0
      },
      "text/plain": [
       "Downloading (…)lve/main/config.json:   0%|          | 0.00/664 [00:00<?, ?B/s]"
      ]
     },
     "metadata": {},
     "output_type": "display_data"
    },
    {
     "data": {
      "application/vnd.jupyter.widget-view+json": {
       "model_id": "e21aac81079744fe9bbb58d54a409bb4",
       "version_major": 2,
       "version_minor": 0
      },
      "text/plain": [
       "Downloading pytorch_model.bin:   0%|          | 0.00/436M [00:00<?, ?B/s]"
      ]
     },
     "metadata": {},
     "output_type": "display_data"
    },
    {
     "data": {
      "application/vnd.jupyter.widget-view+json": {
       "model_id": "3911f03824674395a0e2cb8e7696c841",
       "version_major": 2,
       "version_minor": 0
      },
      "text/plain": [
       "Downloading (…)okenizer_config.json:   0%|          | 0.00/361 [00:00<?, ?B/s]"
      ]
     },
     "metadata": {},
     "output_type": "display_data"
    },
    {
     "data": {
      "application/vnd.jupyter.widget-view+json": {
       "model_id": "e8432af9610f48ef9cfb9e877b7de201",
       "version_major": 2,
       "version_minor": 0
      },
      "text/plain": [
       "Downloading (…)solve/main/vocab.txt:   0%|          | 0.00/232k [00:00<?, ?B/s]"
      ]
     },
     "metadata": {},
     "output_type": "display_data"
    },
    {
     "data": {
      "application/vnd.jupyter.widget-view+json": {
       "model_id": "1f51b3ff74484aaf9b096d8a5fc86082",
       "version_major": 2,
       "version_minor": 0
      },
      "text/plain": [
       "Downloading (…)/main/tokenizer.json:   0%|          | 0.00/711k [00:00<?, ?B/s]"
      ]
     },
     "metadata": {},
     "output_type": "display_data"
    },
    {
     "data": {
      "application/vnd.jupyter.widget-view+json": {
       "model_id": "8d753c9888e34e5391729b24fad7bd6e",
       "version_major": 2,
       "version_minor": 0
      },
      "text/plain": [
       "Downloading (…)cial_tokens_map.json:   0%|          | 0.00/112 [00:00<?, ?B/s]"
      ]
     },
     "metadata": {},
     "output_type": "display_data"
    },
    {
     "name": "stdout",
     "output_type": "stream",
     "text": [
      "{\"time\":\"2023-11-17 15:04:11,168\", \"name\": \"primeqa.ir.dense.dpr_top.dpr.searcher\", \"level\": \"INFO\", \"message\": \"Using sharded faiss, reading shards from dpr_index_dir\"}\n",
      "{\"time\":\"2023-11-17 15:04:11,169\", \"name\": \"primeqa.ir.dense.dpr_top.dpr.searcher\", \"level\": \"INFO\", \"message\": \"Reading passages_1_of_1.json.gz.records\"}\n",
      "{\"time\":\"2023-11-17 15:04:11,171\", \"name\": \"primeqa.ir.dense.dpr_top.dpr.searcher\", \"level\": \"INFO\", \"message\": \"Using sharded faiss with 1 shards.\"}\n"
     ]
    }
   ],
   "source": [
    "retriever.add_documents(\"input.tsv\")"
   ]
  },
  {
   "cell_type": "markdown",
   "metadata": {},
   "source": [
    "## Step 3: Initialize the Reader \n",
    "\n",
    "In this step you can use a generative LLM which can be prompted. This reader can be any of the generative models available in the HuggingFace model hub or OpenAI models."
   ]
  },
  {
   "cell_type": "code",
   "execution_count": 7,
   "metadata": {
    "ExecuteTime": {
     "end_time": "2023-06-18T02:54:29.529799900Z",
     "start_time": "2023-06-18T02:54:14.208300200Z"
    }
   },
   "outputs": [
    {
     "data": {
      "application/vnd.jupyter.widget-view+json": {
       "model_id": "4e59ea4ddfd04bb48af1dad72119cea3",
       "version_major": 2,
       "version_minor": 0
      },
      "text/plain": [
       "Downloading (…)lve/main/config.json:   0%|          | 0.00/1.40k [00:00<?, ?B/s]"
      ]
     },
     "metadata": {},
     "output_type": "display_data"
    },
    {
     "data": {
      "application/vnd.jupyter.widget-view+json": {
       "model_id": "b2e6fd1cc671470691c0d9a00e5b7a75",
       "version_major": 2,
       "version_minor": 0
      },
      "text/plain": [
       "Downloading model.safetensors:   0%|          | 0.00/308M [00:00<?, ?B/s]"
      ]
     },
     "metadata": {},
     "output_type": "display_data"
    },
    {
     "data": {
      "application/vnd.jupyter.widget-view+json": {
       "model_id": "6ba6ca95f35e4ab7a2b8819bdf31bdb8",
       "version_major": 2,
       "version_minor": 0
      },
      "text/plain": [
       "Downloading (…)okenizer_config.json:   0%|          | 0.00/2.54k [00:00<?, ?B/s]"
      ]
     },
     "metadata": {},
     "output_type": "display_data"
    },
    {
     "data": {
      "application/vnd.jupyter.widget-view+json": {
       "model_id": "a8ca95b5055f4303850e3962f7186dcf",
       "version_major": 2,
       "version_minor": 0
      },
      "text/plain": [
       "Downloading spiece.model:   0%|          | 0.00/792k [00:00<?, ?B/s]"
      ]
     },
     "metadata": {},
     "output_type": "display_data"
    },
    {
     "data": {
      "application/vnd.jupyter.widget-view+json": {
       "model_id": "2309665addaa4290a91285f69c41a0cc",
       "version_major": 2,
       "version_minor": 0
      },
      "text/plain": [
       "Downloading (…)/main/tokenizer.json:   0%|          | 0.00/2.42M [00:00<?, ?B/s]"
      ]
     },
     "metadata": {},
     "output_type": "display_data"
    },
    {
     "data": {
      "application/vnd.jupyter.widget-view+json": {
       "model_id": "2b65e3633247471d8837577aeb78854f",
       "version_major": 2,
       "version_minor": 0
      },
      "text/plain": [
       "Downloading (…)cial_tokens_map.json:   0%|          | 0.00/2.20k [00:00<?, ?B/s]"
      ]
     },
     "metadata": {},
     "output_type": "display_data"
    }
   ],
   "source": [
    "from primeqa.components import GenerativeReader\n",
    "\n",
    "reader = GenerativeReader(model_type='HuggingFace', model_name='google/flan-t5-small')\n",
    "# setup an OpenAI generative reader : we support gpt-3.5-turbo and text-davinci-003\n",
    "# reader = GenerativeReader(model_type='OpenAI', model_name='gpt-3.5-turbo', api_key='API KEY HERE')"
   ]
  },
  {
   "cell_type": "markdown",
   "metadata": {},
   "source": [
    "## Step 4: Setup the RAG pipeline\n",
    "\n",
    "Attach a retriever to a generative LLM. You can then prompt it to answer questions."
   ]
  },
  {
   "cell_type": "code",
   "execution_count": 8,
   "metadata": {
    "ExecuteTime": {
     "end_time": "2023-06-18T02:54:36.389972400Z",
     "start_time": "2023-06-18T02:54:36.385974100Z"
    }
   },
   "outputs": [],
   "source": [
    "from primeqa.pipelines import RAG\n",
    "pipeline = RAG(retriever, reader)"
   ]
  },
  {
   "cell_type": "markdown",
   "metadata": {},
   "source": [
    "## Step 5: Start asking questions\n",
    "\n",
    "We \"run\" the pipeline we just created and also attach a prompt."
   ]
  },
  {
   "cell_type": "code",
   "execution_count": 9,
   "metadata": {
    "ExecuteTime": {
     "end_time": "2023-06-18T02:54:44.342134800Z",
     "start_time": "2023-06-18T02:54:40.653234800Z"
    }
   },
   "outputs": [
    {
     "name": "stderr",
     "output_type": "stream",
     "text": [
      "Token indices sequence length is longer than the specified maximum sequence length for this model (1449 > 512). Running this sequence through the model will result in indexing errors\n"
     ]
    }
   ],
   "source": [
    "questions = ['When was Idaho split in two?' , 'Who was Danny Nozel']\n",
    "prompt_prefix = \"Answer the following question after looking at the text.\"\n",
    "\n",
    "answers = pipeline.run(questions, prefix=prompt_prefix)"
   ]
  },
  {
   "cell_type": "code",
   "execution_count": 10,
   "metadata": {
    "ExecuteTime": {
     "end_time": "2023-06-18T02:54:46.576816800Z",
     "start_time": "2023-06-18T02:54:46.570817600Z"
    }
   },
   "outputs": [
    {
     "data": {
      "text/html": [
       "<table border=\"1\" class=\"dataframe\">\n",
       "  <thead>\n",
       "    <tr style=\"text-align: right;\">\n",
       "      <th></th>\n",
       "      <th>question</th>\n",
       "      <th>answer</th>\n",
       "      <th>passages</th>\n",
       "    </tr>\n",
       "  </thead>\n",
       "  <tbody>\n",
       "    <tr>\n",
       "      <th>0</th>\n",
       "      <td>When was Idaho split in two?</td>\n",
       "      <td>American Citizens\" and \"American Citizens\" were the same. The Treaty of Peace and Amity of September 5, 1795, between the United States and the Barbary States contains the usages \"the United States of North America\", \"citizens of the United States\" and \"American Citizens\" respectively. The Treaty of Peace and Amity of September 5, 1795, between the United States and the Barbary States contains the usages \"the United States of North America\", \"citizens of the United States\" and \"American Citizens\"</td>\n",
       "      <td>[Passage: 14, 1784. Copies were sent back to Europe for ratification by the other parties involved, the first reaching France in March 1784. British ratification occurred on April 9, 1784, and the ratified vers..., Passage: been achieved and that Reconstruction should end. They ran a presidential ticket in 1872 but were decisively defeated. In 1874, Democrats, primarily Southern, took control of Congress and opposed any ..., Passage: signed the Treaty of Paris in which Great Britain agreed to recognize the sovereignty of the United States and formally end the war. French involvement had proven decisive, but France made few gains a...]</td>\n",
       "    </tr>\n",
       "    <tr>\n",
       "      <th>1</th>\n",
       "      <td>Who was Danny Nozel</td>\n",
       "      <td>Alfred's brother Ludvig. Alfred's brother Ludvig died while visiting Cannes and a French newspaper erroneously published Alfred's obituary. Alfred's brother Ludvig died while visiting Cannes and a French newspaper erroneously published Alfred's obituary. Alfred's brother Ludvig died while visiting Cannes and a French newspaper erroneously published Alfred's obituary.</td>\n",
       "      <td>[Passage: Jack London's novel and starring Ethan Hawke, was filmed in and around Haines. Steven Seagal's 1994 \"On Deadly Ground\", starring Michael Caine, was filmed in part at the Worthington Glacier near Valde..., Passage: status as: \"I am not one of those hyphenated Americans who claim allegiance to two countries.\" Despite this declaration, Bell has been proudly claimed as a \"native son\" by all three countries he resid..., Passage: react with carbon dioxide to form the alkali metal carbonate and oxygen gas, which allows them to be used in submarine air purifiers; the presence of water vapour, naturally present in breath, makes t...]</td>\n",
       "    </tr>\n",
       "  </tbody>\n",
       "</table>"
      ],
      "text/plain": [
       "<IPython.core.display.HTML object>"
      ]
     },
     "metadata": {},
     "output_type": "display_data"
    }
   ],
   "source": [
    "import pandas as pd\n",
    "from IPython.display import display, HTML\n",
    "\n",
    "output = pd.DataFrame.from_records(answers)\n",
    "display(HTML(output.to_html()))"
   ]
  },
  {
   "cell_type": "markdown",
   "metadata": {},
   "source": [
    "Congratulations 🎉✨🎊🥳 !! You can now perform retrieve and generate (RAG) with PrimeQA!"
   ]
  }
 ],
 "metadata": {
  "kernelspec": {
   "display_name": "Python 3 (ipykernel)",
   "language": "python",
   "name": "python3"
  },
  "language_info": {
   "codemirror_mode": {
    "name": "ipython",
    "version": 3
   },
   "file_extension": ".py",
   "mimetype": "text/x-python",
   "name": "python",
   "nbconvert_exporter": "python",
   "pygments_lexer": "ipython3",
   "version": "3.8.17"
  },
  "vscode": {
   "interpreter": {
    "hash": "c5d039775dffd761dc362a240b88aab365529f2df8e87d6e6e9eecd3e8d89fd4"
   }
  }
 },
 "nbformat": 4,
 "nbformat_minor": 4
}
